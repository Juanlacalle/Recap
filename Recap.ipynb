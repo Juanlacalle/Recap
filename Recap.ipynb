{
 "cells": [
  {
   "cell_type": "markdown",
   "metadata": {},
   "source": [
    "#                                              BOOTCAMP RECAP"
   ]
  },
  {
   "cell_type": "markdown",
   "metadata": {},
   "source": [
    "## INDEX\n",
    "\n",
    "1.2 List Comprehensions\n",
    "\n",
    "1.3.1 Strings operations\n",
    "\n",
    "1.3.2 Numpy\n",
    "\n",
    "1.4.1 Functional programing\n",
    "\n",
    "1.4.2 Lambda Functions\n",
    "\n",
    "1.5 Pandas\n",
    "\n",
    "2.1.1 Import export\n",
    "\n",
    "\n",
    "2.1.2 Data Cleaning\n",
    "\n",
    "2.3 SQL\n",
    "\n",
    "2.5 Class map-reduce-filter\n",
    "\n",
    "3.1 API\n",
    "\n",
    "3.2.1 Regex\n",
    "\n",
    "3.2.2 RSS Feed\n",
    "\n",
    "3.3 Web Scraping\n",
    "\n",
    "3.4.1 Seaborn\n",
    "\n",
    "3.4.2 Matplotlib\n",
    "\n",
    "4.1 Descriptive Statistics With Pandas\n",
    "\n",
    "4.2 EDA\n",
    "\n",
    "4.3 Linear Regression\n",
    "\n",
    "4.4 Pivot table\n",
    "\n",
    "4.5 CI / Probability\n",
    "\n",
    "5.1 Scipy / Anova\n",
    "\n",
    "5.2 Goodness Of Fit / Two Sample Hypothesis Tests\n",
    "\n",
    "5.3 Storelling\n",
    "\n",
    "6 Machine learning\n",
    "\n",
    "\n"
   ]
  },
  {
   "cell_type": "markdown",
   "metadata": {},
   "source": [
    "##### 1.2 List Comprehensions\n"
   ]
  },
  {
   "cell_type": "code",
   "execution_count": 9,
   "metadata": {},
   "outputs": [
    {
     "data": {
      "text/plain": [
       "[1, 3, 5, 7, 9, 11, 13, 15, 17, 19]"
      ]
     },
     "execution_count": 9,
     "metadata": {},
     "output_type": "execute_result"
    }
   ],
   "source": [
    "list=[i for i in range(10)]\n",
    "newlist=[i*2 for i in list]\n",
    "impares=[i for i in range(20) if i%2==1]\n",
    "multi3=[i for i in list if (i%3==0) and (i > 5)]\n",
    "impares"
   ]
  },
  {
   "cell_type": "code",
   "execution_count": 4,
   "metadata": {},
   "outputs": [
    {
     "name": "stdout",
     "output_type": "stream",
     "text": [
      "[158.0, 154.4, 156.2, 159.8, 158.0, -1, -1, 152.60000000000002, -1, 156.2, -1, 158.0, -1]\n",
      "[1, 1, 0, 1, 0]\n"
     ]
    }
   ],
   "source": [
    "#What if I want 1 when even value and 0 when odd\n",
    "temp=[70,68,69,71,70,33,45,67, -1, 69, 23, 70, -1]\n",
    "lista=[1.8*i+32 if i > 50 else -1 for i in temp]\n",
    "print(lista)\n",
    "\n",
    "# 0 for -1 and 1 for \"wrong values\"( 33,45 and 23)\n",
    "listaa=[0 if i==-1 else 1 for i in temp if i < 50]\n",
    "print(listaa)"
   ]
  },
  {
   "cell_type": "markdown",
   "metadata": {},
   "source": [
    "#### 1.3.1 Strings operations"
   ]
  },
  {
   "cell_type": "code",
   "execution_count": 6,
   "metadata": {},
   "outputs": [
    {
     "name": "stdout",
     "output_type": "stream",
     "text": [
      "she had a marvelous assortment of puppets.\n",
      "['shE H', 'D ', ' m', 'RveLoUs ', 'SsoRtmeNt of PUPPETS.']\n",
      "SHE HAD A MARVELOUS ASSORTMENT OF PUPPETS.\n",
      "She had a marvelous assortment of puppets.\n",
      "She Had A Marvelous Assortment Of Puppets.\n"
     ]
    }
   ],
   "source": [
    "hello = 'shE HaD a maRveLoUs aSsoRtmeNt of PUPPETS.'\n",
    "print(hello.lower())\n",
    "print(hello.split('a'))\n",
    "print(hello.upper())\n",
    "print(hello.capitalize())\n",
    "print(hello.title())"
   ]
  },
  {
   "cell_type": "code",
   "execution_count": 7,
   "metadata": {},
   "outputs": [
    {
     "name": "stdout",
     "output_type": "stream",
     "text": [
      ".\n",
      ".STEPPUP fo tNemtRosSa sUoLevRam a DaH Ehs\n"
     ]
    }
   ],
   "source": [
    "print(hello[-1])\n",
    "print(hello[::-1])"
   ]
  },
  {
   "cell_type": "code",
   "execution_count": 8,
   "metadata": {},
   "outputs": [],
   "source": [
    "# random\n",
    "import random\n",
    "random_list = random.sample(range(100), k = 80)"
   ]
  },
  {
   "cell_type": "code",
   "execution_count": null,
   "metadata": {},
   "outputs": [],
   "source": [
    "# input\n",
    "name = input(\"What's your name?\")\n",
    "nationality = input(\"What's your nationality?\")\n",
    "\"Hello, {}. You are {}.\".format(name, nationality)"
   ]
  },
  {
   "cell_type": "code",
   "execution_count": 10,
   "metadata": {},
   "outputs": [
    {
     "data": {
      "text/plain": [
       "['NL983572819B54']"
      ]
     },
     "execution_count": 10,
     "metadata": {},
     "output_type": "execute_result"
    }
   ],
   "source": [
    "# Regex\n",
    "import re \n",
    "re.search(\"b\", \"abcdecf\")\n",
    "text = \"He was carefully disguised but captured quickly by police.\"\n",
    "re.findall(r\"\\w+ly\", text)\n",
    "re.findall(\"...e\\.\", text)\n",
    "re.findall(\"NL[0-9]{9}B[0-9]{2}\", \"My VAT is NL983572819B54\")"
   ]
  },
  {
   "cell_type": "code",
   "execution_count": null,
   "metadata": {},
   "outputs": [],
   "source": [
    "str_list = ['Durante', 'un', 'tiempo', 'no', 'estuvo', 'segura', 'de', 'si', 'su', 'marido', 'era', 'su', 'marido']\n",
    "sep= ' '\n",
    "str2 = sep.join(str_list) + '.'"
   ]
  },
  {
   "cell_type": "code",
   "execution_count": 5,
   "metadata": {},
   "outputs": [],
   "source": [
    "poem_string = poem.replace('\\n',\" \").replace(',',' ').replace('.',' ').replace('&',' ').replace(':',' ').replace(';',' ').split(' ')\n",
    "poem_set = set([p.lower() for p in poem_string])\n",
    "poem_set = poem_set - set(blacklist + [''])"
   ]
  },
  {
   "cell_type": "markdown",
   "metadata": {},
   "source": [
    "#### 1.3.2 Numpy\n"
   ]
  },
  {
   "cell_type": "code",
   "execution_count": 13,
   "metadata": {},
   "outputs": [
    {
     "name": "stdout",
     "output_type": "stream",
     "text": [
      "1.17.2\n",
      "[[1 1 1 1 1]\n",
      " [1 1 1 1 1]]\n"
     ]
    }
   ],
   "source": [
    "import numpy as np\n",
    "\n",
    "print(np.__version__)\n",
    "np_arr = np.ones((2,5), dtype = int)\n",
    "print(np_arr)\n",
    "np_arr.size\n",
    "np_arr.ndim\n",
    "np_arr.shape\n",
    "\n",
    "d_max=np.max(d)\n",
    "d_min=np.min(d)\n",
    "d_mean=np.mean(d)\n",
    "\n",
    "#concadenate\n",
    "x = np.full((2,5),2)\n",
    "y = np.full((2,5),6)\n",
    "\n",
    "vstack_arr = np.vstack ([x,y])"
   ]
  },
  {
   "cell_type": "markdown",
   "metadata": {},
   "source": [
    "#### 1.4.1 Functional programing\n"
   ]
  },
  {
   "cell_type": "code",
   "execution_count": 8,
   "metadata": {},
   "outputs": [
    {
     "data": {
      "text/plain": [
       "'John was a man of many talents'"
      ]
     },
     "execution_count": 8,
     "metadata": {},
     "output_type": "execute_result"
    }
   ],
   "source": [
    "def list2string(lst):\n",
    "    len_lst=len\n",
    "    string = ' '.join(lst)\n",
    "    return string\n",
    "\n",
    "to_string = ['John', 'was', 'a', 'man', 'of', 'many', 'talents']\n",
    "list2string(to_string)"
   ]
  },
  {
   "cell_type": "code",
   "execution_count": 9,
   "metadata": {},
   "outputs": [
    {
     "name": "stdout",
     "output_type": "stream",
     "text": [
      "0 Zappullo\n",
      "Zappullo is Italian\n",
      "1 Madriz\n",
      "Madriz is Venezuelan\n",
      "2 Mendes\n",
      "Mendes is Portuguese\n"
     ]
    }
   ],
   "source": [
    "names = ['Zappullo', 'Madriz', 'Mendes']\n",
    "nationality = ['Italian', 'Venezuelan', 'Portuguese']\n",
    "\n",
    "for position, name in enumerate(names):\n",
    "  print(position, name)\n",
    "  print(f\"{name} is {nationality[position]}\")"
   ]
  },
  {
   "cell_type": "code",
   "execution_count": 10,
   "metadata": {},
   "outputs": [
    {
     "name": "stdout",
     "output_type": "stream",
     "text": [
      "Zappullo is Italian\n",
      "Madriz is Venezuelan\n",
      "Mendes is Portuguese\n"
     ]
    }
   ],
   "source": [
    "# Zip\n",
    "for name, nationality in zip(names, nationality):\n",
    "  print(f\"{name} is {nationality}\")"
   ]
  },
  {
   "cell_type": "code",
   "execution_count": 11,
   "metadata": {},
   "outputs": [
    {
     "name": "stdout",
     "output_type": "stream",
     "text": [
      "[('A', 'B', 'C'), ('A', 'C', 'B'), ('B', 'A', 'C'), ('B', 'C', 'A'), ('C', 'A', 'B'), ('C', 'B', 'A')]\n"
     ]
    }
   ],
   "source": [
    "from itertools import permutations \n",
    "print(list(permutations('ABC'))) "
   ]
  },
  {
   "cell_type": "code",
   "execution_count": null,
   "metadata": {},
   "outputs": [],
   "source": [
    "# We first define our iterator:\n",
    "iterator = iter([1,2,3])\n",
    "print(next(iterator))"
   ]
  },
  {
   "cell_type": "markdown",
   "metadata": {},
   "source": [
    "#### 1.4.2 Lambda Functions\n"
   ]
  },
  {
   "cell_type": "markdown",
   "metadata": {},
   "source": [
    "###### General Syntax\n",
    "\n",
    "object_function = lambda arguments : expression\n",
    "\n",
    "**Expression**: can be replaced with a value\n",
    "\n",
    "**Statement**: line of code that does something"
   ]
  },
  {
   "cell_type": "code",
   "execution_count": null,
   "metadata": {},
   "outputs": [],
   "source": [
    "square = lambda x: x * x\n",
    "print(\"From lambda function: \", square(5))\n",
    "\n",
    "def square(x):\n",
    "    return x * x\n",
    "print(\"\\nFrom function: \", square(5))"
   ]
  },
  {
   "cell_type": "code",
   "execution_count": 17,
   "metadata": {},
   "outputs": [
    {
     "name": "stdout",
     "output_type": "stream",
     "text": [
      "[1, 4, 9, 16, 0, 0, 0, 0, 0]\n"
     ]
    }
   ],
   "source": [
    "def funct1(x):\n",
    "  return 0\n",
    "square = lambda x: x * x if x < 5 else funct1(x)\n",
    "squared = [square(x) for x in range(1, 10)]\n",
    "print(squared)"
   ]
  },
  {
   "cell_type": "code",
   "execution_count": 18,
   "metadata": {},
   "outputs": [
    {
     "name": "stdout",
     "output_type": "stream",
     "text": [
      "['but it can be any string']\n"
     ]
    }
   ],
   "source": [
    "school_dash = ['but-it-can be any string']\n",
    "\n",
    "school_space = [(lambda x: x.replace('-', ' '))(x) for x in school_dash]\n",
    "print(school_space)"
   ]
  },
  {
   "cell_type": "code",
   "execution_count": null,
   "metadata": {},
   "outputs": [],
   "source": [
    "list1 = ['Green', 'cheese', 'English', 'tomato']\n",
    "list2 = ['eggs', 'cheese', 'cucumber', 'tomato']\n",
    "zipped = zip(list1,list2)\n",
    "list(zipped)"
   ]
  },
  {
   "cell_type": "markdown",
   "metadata": {},
   "source": [
    "#### 1.5 Pandas"
   ]
  },
  {
   "cell_type": "code",
   "execution_count": 22,
   "metadata": {},
   "outputs": [],
   "source": [
    "import numpy as np\n",
    "import pandas as pd"
   ]
  },
  {
   "cell_type": "code",
   "execution_count": 40,
   "metadata": {},
   "outputs": [],
   "source": [
    "population_dict = {'California': 38332521,\n",
    "                   'Texas': 26448193,\n",
    "                   'New York': 19651127,\n",
    "                   'Florida': 19552860,\n",
    "                   'Illinois': 12882135}\n",
    "population = pd.Series(population_dict)\n"
   ]
  },
  {
   "cell_type": "code",
   "execution_count": 39,
   "metadata": {},
   "outputs": [],
   "source": [
    "a = ['Column1','Column2','Column3','Column4','Column5']\n",
    "df = pd.DataFrame(np.random.random((10,5)),index=range(9,19), columns=a)"
   ]
  },
  {
   "cell_type": "code",
   "execution_count": 38,
   "metadata": {},
   "outputs": [],
   "source": [
    "# Converting other Structures to DataFrames\n",
    "lst = [208500, 181500, 223500, 140000, 250000, 143000, 307000, 200000, 129900, 118000]\n",
    "price_df = pd.DataFrame(lst, columns=['SalePrice'])\n",
    "\n",
    "house_dict = {'Baker House': [7420, 'BrkSide', 1939, 5, 118000],\n",
    "              'Beazley House': [14115, 'Mitchel', 1993, 5, 143000],\n",
    "              'Dominguez House': [14260, 'NoRidge', 2000, 8, 250000],\n",
    "              'Hamilton House': [6120, 'OldTown', 1931, 7, 129900],\n",
    "              'James House': [11250, 'CollgCr', 2001, 7, 223500]}\n",
    "#pd.DataFrame(house_dict)"
   ]
  },
  {
   "cell_type": "markdown",
   "metadata": {},
   "source": [
    "#### 2.1.1 Import export\n"
   ]
  },
  {
   "cell_type": "code",
   "execution_count": 45,
   "metadata": {},
   "outputs": [],
   "source": [
    "# Import pipe-delimited file\n",
    "data = pd.read_csv('vehicles/vehicles_pipe.txt', sep='|')\n",
    "# Export tab-delimited file\n",
    "data.to_csv('vehicles/vehicles_tab.txt', sep='\\t', index=False)#sep='|'\n",
    "## Importing Exporting to Excel\n",
    "data = pd.read_excel('vehicles/vehicles.xlsx')\n",
    "data.to_excel('vehicles/vehicles.xlsx', index=False)\n",
    "## Importing Exporting to Json\n",
    "data = pd.read_json('vehicles/vehicles.json', orient='records')\n",
    "data.to_json('vehicles/vehicles.json', orient='records')"
   ]
  },
  {
   "cell_type": "code",
   "execution_count": null,
   "metadata": {},
   "outputs": [],
   "source": [
    "cols = ['time', 'rad_flow', 'fpv_close', 'fpv_open', 'high', 'bypass', 'bpv_close', 'bpv_open', 'class']\n",
    "tst_url = 'https://archive.ics.uci.edu/ml/machine-learning-databases/statlog/shuttle/shuttle.tst'\n",
    "pd.read_csv(tst_url,names=cols, sep=' ')"
   ]
  },
  {
   "cell_type": "markdown",
   "metadata": {},
   "source": [
    "#### 2.1.2 Data Cleaning\n"
   ]
  },
  {
   "cell_type": "code",
   "execution_count": 48,
   "metadata": {},
   "outputs": [],
   "source": [
    "# Check for Missing Values. Is this easy to see? When to drop the lines and when to drop the column.\n",
    "ds_null = ds.isnull().sum()\n",
    "ds_null [ds_null > 0]\n",
    "##\n",
    "How do we check for negative values? Do it now plz :)\n",
    "ds[(ds._get_numeric_data()<0)].notnull().sum()\n",
    "# we might want to fill the missing values with a value we choose. In this case we fill zero.\n",
    "ds[['displ', 'cylinders']].fillna(0)\n",
    "# Is there any entry that has one of the two values different from 0?\n",
    "test = ds[(ds['cylinders']==0) & (ds['displ']!=0)]\n",
    "# replace\n",
    "ds['trany'] = ds['trany'].str.replace('-', '')\n",
    "\n",
    ".rename(columns={\"Id\":\"postId\",\"OwnerUserId\":\"userId\"})"
   ]
  },
  {
   "cell_type": "markdown",
   "metadata": {},
   "source": [
    " #### 2.3 SQL"
   ]
  },
  {
   "cell_type": "markdown",
   "metadata": {},
   "source": [
    "SELECT [ALL | DISTINCT ]\n",
    "\n",
    "             <nombre_campo> [{,<nombre_campo>}]\n",
    "\n",
    "FROM <nombre_tabla>|<nombre_vista> \n",
    "\n",
    "        [{,<nombre_tabla>|<nombre_vista>}]\n",
    "\n",
    "[WHERE <condición> [{ AND|OR <condición>}]]\n",
    "\n",
    "[GROUP BY <nombre_campo> [{,<nombre_campo >}]]\n",
    "\n",
    "[HAVING <condición>[{ AND|OR <condición>}]]\n",
    "\n",
    "[ORDER BY <nombre_campo>|<indice_campo> [ASC | DESC]\n",
    "\n",
    "                [{,<nombre_campo>|<indice_campo> [ASC | DESC ]}]]\n",
    "                \n",
    "            \n",
    "            \n",
    "            \n",
    "\n",
    "SELECT\tPalabra clave que indica que la sentencia de SQL que queremos ejecutar es de selección.\n",
    "\n",
    "ALL\tIndica que queremos seleccionar todos los valores. Es el valor por defecto y no suele especificarse casi nunca.\n",
    "\n",
    "DISTINCT\tIndica que queremos seleccionar sólo los valores distintos.\n",
    "\n",
    "FROM\tIndica la tabla (o tablas) desde la que queremos recuperar los datos. En el caso de que exista más de una tabla se denomina a la consulta \"consulta combinada\" o \"join\". En las consultas combinadas es necesario aplicar una condición de combinación a través de una cláusula WHERE.\n",
    "\n",
    "WHERE\tEspecifica una condición que debe cumplirse para que los datos sean devueltos por la consulta. Admite los operadores lógicos AND y OR.\n",
    "\n",
    "GROUP BY\tEspecifica la agrupación que se da a los datos. Se usa siempre en combinación con funciones agregadas.\n",
    "\n",
    "HAVING\tEspecifica una condición que debe cumplirse para que los datos sean devueltos por la consulta. Su funcionamiento es similar al de WHERE pero aplicado al conjunto de resultados devueltos por la consulta. Debe aplicarse siempre junto a GROUP BY y la condición debe estar referida a los campos contenidos en ella.\n",
    "\n",
    "ORDER BY\tPresenta el resultado ordenado por las columnas indicadas. El orden puede expresarse con ASC (orden ascendente) y DESC (orden descendente). El valor predeterminado es ASC.\n",
    "\n",
    "\n",
    "https://es.wikipedia.org/wiki/SQL"
   ]
  },
  {
   "cell_type": "code",
   "execution_count": null,
   "metadata": {},
   "outputs": [],
   "source": [
    "SELECT *\n",
    "FROM Ratings;\n",
    "\n",
    "SELECT AppName, Price, TotalRatings, OverallRating, Genre\n",
    "FROM Ratings\n",
    "WHERE Price = 0 AND OverallRating >= 4\n",
    "ORDER BY TotalRatings DESC\n",
    "LIMIT 20;\n",
    "---------------------------------\n",
    "\n",
    "SELECT Genre, Price\n",
    "FROM Ratings\n",
    "GROUP BY Genre, Price\n",
    "ORDER BY Genre ASC, Price ASC;\n",
    "\n",
    "SELECT COUNT(DISTINCT(Genre))  # total number of unique genres\n",
    "FROM Ratings;\n",
    "\n",
    "SELECT Genre, COUNT(*) AS Records # AS statement to change the name of the column to Records\n",
    "FROM Ratings\n",
    "GROUP BY Genre\n",
    "ORDER BY COUNT(*) DESC\n",
    "LIMIT 3;\n",
    "\n",
    "SELECT Genre, SUM(TotalRatings) AS TotalRatings # We can apply the SUM command to the TotalRatings field while maintaining our grouping by Genre.\n",
    "FROM Ratings\n",
    "GROUP BY Genre\n",
    "ORDER BY SUM(TotalRatings) DESC;\n",
    "\n",
    "SELECT Genre, SUM(TotalRatings) AS TotalRatings, AVG(OverallRating) AS AvgRating # AVG, WHERE\n",
    "FROM Ratings\n",
    "WHERE Price = 0\n",
    "GROUP BY Genre\n",
    "ORDER BY SUM(TotalRatings) DESC\n",
    "LIMIT 5;"
   ]
  },
  {
   "cell_type": "markdown",
   "metadata": {},
   "source": [
    "INNER JOIN"
   ]
  },
  {
   "cell_type": "code",
   "execution_count": null,
   "metadata": {},
   "outputs": [],
   "source": [
    "SELECT * \n",
    "FROM Table_A\n",
    "INNER JOIN Table_B\n",
    "ON Table_A.Key = Table_B.Key\n",
    "\n",
    "\n",
    "SELECT pubs.pub_name, COUNT(titles.title_id) AS Titles \n",
    "FROM publications.publishers pubs\n",
    "INNER JOIN publications.titles titles\n",
    "ON pubs.pub_id = titles.pub_id\n",
    "GROUP BY pubs.pub_name;"
   ]
  },
  {
   "cell_type": "markdown",
   "metadata": {},
   "source": [
    "LEFT JOIN"
   ]
  },
  {
   "cell_type": "markdown",
   "metadata": {},
   "source": [
    "SELECT *\n",
    "FROM Table_A\n",
    "LEFT JOIN Table_B\n",
    "ON Table_A.Key = Table_B.Key\n",
    "\n",
    "SELECT pubs.pub_name, COUNT(titles.title_id) AS Titles FROM publications.publishers pubs\n",
    "LEFT JOIN publications.titles titles\n",
    "ON pubs.pub_id = titles.pub_id\n",
    "GROUP BY pubs.pub_name;"
   ]
  },
  {
   "cell_type": "markdown",
   "metadata": {},
   "source": [
    "RIGHT JOIN"
   ]
  },
  {
   "cell_type": "code",
   "execution_count": null,
   "metadata": {},
   "outputs": [],
   "source": [
    "SELECT *\n",
    "FROM Table_A\n",
    "RIGHT JOIN Table_B\n",
    "ON Table_A.Key = Table_B.Key\n",
    "\n",
    "SELECT titles.title, titles.type, titles.price, SUM(sales.qty) AS units_sold\n",
    "FROM publications.sales sales\n",
    "RIGHT JOIN publications.titles titles\n",
    "ON sales.title_id = titles.title_id\n",
    "GROUP BY titles.title, titles.type, titles.price;"
   ]
  },
  {
   "cell_type": "markdown",
   "metadata": {},
   "source": [
    "FULL OUTER JOIN"
   ]
  },
  {
   "cell_type": "code",
   "execution_count": null,
   "metadata": {},
   "outputs": [],
   "source": [
    "SELECT *\n",
    "FROM Table_A\n",
    "OUTER JOIN Table_B\n",
    "ON Table_A.Key = Table_B.Key\n",
    "\n",
    "SELECT *\n",
    "FROM publications.employee emp \n",
    "RIGHT JOIN publications.jobs job \n",
    "ON emp.job_id = job.job_id \n",
    "UNION\n",
    "SELECT *\n",
    "FROM publications.employee emp \n",
    "LEFT JOIN publications.jobs job \n",
    "ON emp.job_id = job.job_id;"
   ]
  },
  {
   "cell_type": "markdown",
   "metadata": {},
   "source": [
    "SUBQUERIES"
   ]
  },
  {
   "cell_type": "code",
   "execution_count": null,
   "metadata": {},
   "outputs": [],
   "source": [
    "SELECT stores.stor_name AS Store, COUNT(DISTINCT(ord_num)) AS Orders, COUNT(title_id) AS Items, SUM(qty) AS Qty\n",
    "FROM publications.sales sales\n",
    "INNER JOIN publications.stores stores ON stores.stor_id = sales.stor_id\n",
    "GROUP BY Store;\n",
    "\n",
    "ELECT Store, Items/Orders AS AvgItems, Qty/Items AS AvgQty \n",
    "FROM (\n",
    "SELECT stores.stor_name AS Store, COUNT(DISTINCT(ord_num)) AS Orders, COUNT(title_id) AS \n",
    "    Items, SUM(qty) AS Qty\n",
    "FROM publications.sales sales\n",
    "INNER JOIN publications.stores stores ON stores.stor_id = sales.stor_id GROUP BY Store\n",
    ") summary;\n",
    "\n",
    "SELECT Store, ord_num AS OrderNumber, ord_date AS OrderDate, title AS Title, sales.qty AS Qty, price AS Price, type as Type\n",
    "FROM (\n",
    "SELECT stores.stor_id AS StoreID, stores.stor_name AS Store, COUNT(DISTINCT(ord_num)) AS Orders, COUNT(title_id) AS Items, SUM(qty) AS Qty\n",
    "FROM publications.sales sales\n",
    "INNER JOIN publications.stores stores ON stores.stor_id = sales.stor_id GROUP BY StoreID, Store\n",
    ") summary\n",
    "INNER JOIN publications.sales sales ON summary.StoreID = sales.stor_id INNER JOIN publications.titles ON sales.title_id = titles.title_id\n",
    "WHERE Items / Orders > 1;"
   ]
  },
  {
   "cell_type": "markdown",
   "metadata": {},
   "source": [
    "Embedding this query as a subquery into another query"
   ]
  },
  {
   "cell_type": "code",
   "execution_count": null,
   "metadata": {},
   "outputs": [],
   "source": [
    "SELECT Store, Items/Orders AS AvgItems, Qty/Items AS AvgQty\n",
    "FROM (\n",
    "    SELECT stores.stor_name AS Store, COUNT(DISTINCT(ord_num)) AS Orders, COUNT(title_id) AS Items, SUM(qty) AS Qty\n",
    "    FROM publications.sales sales\n",
    "    INNER JOIN publications.stores stores ON stores.stor_id = sales.stor_id\n",
    "    GROUP BY Store\n",
    ") summary;\n"
   ]
  },
  {
   "cell_type": "markdown",
   "metadata": {},
   "source": [
    "Create a TEMPORARY table"
   ]
  },
  {
   "cell_type": "code",
   "execution_count": null,
   "metadata": {},
   "outputs": [],
   "source": [
    "CREATE TEMPORARY TABLE publications.store_sales_summary\n",
    "SELECT stores.stor_id AS StoreID, stores.stor_name AS Store, COUNT(DISTINCT(ord_num)) AS Orders, COUNT(title_id) AS Items, SUM(qty) AS Qty\n",
    "FROM publications.sales sales\n",
    "INNER JOIN publications.stores stores ON stores.stor_id = sales.stor_id\n",
    "GROUP BY StoreID, Store;"
   ]
  },
  {
   "cell_type": "markdown",
   "metadata": {},
   "source": [
    "Create a permanent table\n"
   ]
  },
  {
   "cell_type": "code",
   "execution_count": null,
   "metadata": {},
   "outputs": [],
   "source": [
    "CREATE TABLE publications.store_sales_summary\n",
    "SELECT stores.stor_id AS StoreID, stores.stor_name AS Store, COUNT(DISTINCT(ord_num)) AS Orders, COUNT(title_id) AS Items, SUM(qty) AS Qty\n",
    "FROM publications.sales sales\n",
    "INNER JOIN publications.stores stores ON stores.stor_id = sales.stor_id\n",
    "GROUP BY StoreID, Store;"
   ]
  },
  {
   "cell_type": "markdown",
   "metadata": {},
   "source": [
    "Delete Queries"
   ]
  },
  {
   "cell_type": "code",
   "execution_count": null,
   "metadata": {},
   "outputs": [],
   "source": [
    "DELETE FROM publications.store_sales_summary\n",
    "WHERE Qty < 80;"
   ]
  },
  {
   "cell_type": "markdown",
   "metadata": {},
   "source": [
    "Append Queries"
   ]
  },
  {
   "cell_type": "code",
   "execution_count": null,
   "metadata": {},
   "outputs": [],
   "source": [
    "INSERT INTO publications.store_sales_summary\n",
    "SELECT stores.stor_id AS StoreID, stores.stor_name AS Store, COUNT(DISTINCT(ord_num)) AS Orders, COUNT(title_id) AS Items, SUM(qty) AS Qty\n",
    "FROM publications.sales sales\n",
    "INNER JOIN publications.stores stores ON stores.stor_id = sales.stor_id\n",
    "GROUP BY StoreID, Store;"
   ]
  },
  {
   "cell_type": "markdown",
   "metadata": {},
   "source": [
    "Update Queries"
   ]
  },
  {
   "cell_type": "code",
   "execution_count": null,
   "metadata": {},
   "outputs": [],
   "source": [
    "UPDATE publications.store_sales_summary\n",
    "SET Qty = Qty + 5\n",
    "\n",
    "UPDATE publications.store_sales_summary\n",
    "SET Qty = Qty + 10\n",
    "WHERE Qty < 100\n",
    "\n",
    "SELECT *\n",
    "FROM publications.store_sales_summary;"
   ]
  },
  {
   "cell_type": "code",
   "execution_count": null,
   "metadata": {},
   "outputs": [],
   "source": [
    "# INSERT INTO agenda_telefonica (nombre, numero) VALUES ('Roberto Jeldrez', 4886850);"
   ]
  },
  {
   "cell_type": "code",
   "execution_count": null,
   "metadata": {},
   "outputs": [],
   "source": [
    "# UPDATE mi_tabla SET campo1 = 'nuevo valor campo1' WHERE campo2 = 'N';"
   ]
  },
  {
   "cell_type": "code",
   "execution_count": null,
   "metadata": {},
   "outputs": [],
   "source": [
    "# DELETE FROM 'tabla' WHERE 'columna1' = 'valor1'"
   ]
  },
  {
   "cell_type": "code",
   "execution_count": null,
   "metadata": {},
   "outputs": [],
   "source": []
  },
  {
   "cell_type": "markdown",
   "metadata": {},
   "source": [
    " #### 2.5 Class map-reduce-filter"
   ]
  },
  {
   "cell_type": "code",
   "execution_count": 2,
   "metadata": {},
   "outputs": [
    {
     "data": {
      "text/plain": [
       "<filter at 0x108684690>"
      ]
     },
     "execution_count": 2,
     "metadata": {},
     "output_type": "execute_result"
    }
   ],
   "source": [
    "l = [10, 12, 34, 23]\n",
    "filter(lambda x: x % 2 == 1, l)"
   ]
  },
  {
   "cell_type": "code",
   "execution_count": 3,
   "metadata": {},
   "outputs": [
    {
     "data": {
      "text/plain": [
       "[23]"
      ]
     },
     "execution_count": 3,
     "metadata": {},
     "output_type": "execute_result"
    }
   ],
   "source": [
    "list(filter(lambda x: x % 2 == 1, l))"
   ]
  },
  {
   "cell_type": "code",
   "execution_count": 8,
   "metadata": {},
   "outputs": [
    {
     "data": {
      "text/plain": [
       "(<function __main__.<lambda>(a, b)>, [10, 12, 34, 23])"
      ]
     },
     "execution_count": 8,
     "metadata": {},
     "output_type": "execute_result"
    }
   ],
   "source": [
    "lambda a, b: a + b, l"
   ]
  },
  {
   "cell_type": "code",
   "execution_count": 9,
   "metadata": {},
   "outputs": [
    {
     "data": {
      "text/plain": [
       "79"
      ]
     },
     "execution_count": 9,
     "metadata": {},
     "output_type": "execute_result"
    }
   ],
   "source": [
    "from functools import reduce\n",
    "reduce(lambda a, b: a + b, l)"
   ]
  },
  {
   "cell_type": "code",
   "execution_count": 11,
   "metadata": {},
   "outputs": [],
   "source": [
    "def range_func(x):\n",
    "    return max(x) - min(x)\n",
    "df.apply(range_func)"
   ]
  },
  {
   "cell_type": "code",
   "execution_count": 12,
   "metadata": {},
   "outputs": [
    {
     "data": {
      "text/plain": [
       "[32.0, 68.0, 104.0]"
      ]
     },
     "execution_count": 12,
     "metadata": {},
     "output_type": "execute_result"
    }
   ],
   "source": [
    "temp=[0,20,40]\n",
    "list(map(lambda a: a*1.8+32,temp))"
   ]
  },
  {
   "cell_type": "code",
   "execution_count": 13,
   "metadata": {},
   "outputs": [
    {
     "data": {
      "text/plain": [
       "7"
      ]
     },
     "execution_count": 13,
     "metadata": {},
     "output_type": "execute_result"
    }
   ],
   "source": [
    "from functools import reduce\n",
    "nst=[1,3,7,4,6]\n",
    "reduce(lambda a,b : a if a>b else b,nst)"
   ]
  },
  {
   "cell_type": "markdown",
   "metadata": {},
   "source": [
    " #### 3.1 API"
   ]
  },
  {
   "cell_type": "code",
   "execution_count": 14,
   "metadata": {},
   "outputs": [],
   "source": [
    "import requests\n",
    "import json \n",
    "import pandas as pd"
   ]
  },
  {
   "cell_type": "code",
   "execution_count": 25,
   "metadata": {},
   "outputs": [
    {
     "data": {
      "text/plain": [
       "200"
      ]
     },
     "execution_count": 25,
     "metadata": {},
     "output_type": "execute_result"
    }
   ],
   "source": [
    "# Assign page URL to a variable\n",
    "url = 'https://www.ironhack.com/locales/en/translation.json'\n",
    "# get method from requests\n",
    "response = requests.get(url)#.json()\n",
    "# check if you have the info\n",
    "response.headers\n",
    "# content in bytes\n",
    "response.content\n",
    "# content in unicode\n",
    "response.text\n",
    "response.status_code\n"
   ]
  },
  {
   "cell_type": "code",
   "execution_count": 28,
   "metadata": {},
   "outputs": [],
   "source": [
    "## I can retrieve info from Github!\n",
    "response = requests.get('https://api.github.com/events')\n",
    "ds = pd.DataFrame(response.json())"
   ]
  },
  {
   "cell_type": "code",
   "execution_count": 30,
   "metadata": {},
   "outputs": [],
   "source": [
    "from pandas.io.json import json_normalize\n",
    "\n",
    "norm_json = json_normalize(response.json())\n",
    "ds_normalized = pd.DataFrame(norm_json)"
   ]
  },
  {
   "cell_type": "code",
   "execution_count": 32,
   "metadata": {},
   "outputs": [],
   "source": [
    "from pandas.io.json import json_normalize\n",
    "\n",
    "norm_json = json_normalize(response.json())\n",
    "ds_normalized = pd.DataFrame(norm_json)"
   ]
  },
  {
   "cell_type": "code",
   "execution_count": 1,
   "metadata": {},
   "outputs": [
    {
     "data": {
      "text/html": [
       "<div>\n",
       "<style scoped>\n",
       "    .dataframe tbody tr th:only-of-type {\n",
       "        vertical-align: middle;\n",
       "    }\n",
       "\n",
       "    .dataframe tbody tr th {\n",
       "        vertical-align: top;\n",
       "    }\n",
       "\n",
       "    .dataframe thead th {\n",
       "        text-align: right;\n",
       "    }\n",
       "</style>\n",
       "<table border=\"1\" class=\"dataframe\">\n",
       "  <thead>\n",
       "    <tr style=\"text-align: right;\">\n",
       "      <th></th>\n",
       "      <th>Jupyter Notebook</th>\n",
       "      <th>HTML</th>\n",
       "      <th>Python</th>\n",
       "    </tr>\n",
       "  </thead>\n",
       "  <tbody>\n",
       "    <tr>\n",
       "      <td>0</td>\n",
       "      <td>1343103</td>\n",
       "      <td>498316</td>\n",
       "      <td>20656</td>\n",
       "    </tr>\n",
       "  </tbody>\n",
       "</table>\n",
       "</div>"
      ],
      "text/plain": [
       "   Jupyter Notebook    HTML  Python\n",
       "0           1343103  498316   20656"
      ]
     },
     "execution_count": 1,
     "metadata": {},
     "output_type": "execute_result"
    }
   ],
   "source": [
    "import requests\n",
    "import json\n",
    "import pandas as pd\n",
    "from pandas.io.json import json_normalize\n",
    "url = 'https://api.github.com/repos/ironhack-datalabs/datalis0819/languages'\n",
    "response = requests.get(url)#.json()\n",
    "ds=pd.DataFrame(response)\n",
    "ds\n",
    "norm=json_normalize(response.json())\n",
    "norm"
   ]
  },
  {
   "cell_type": "markdown",
   "metadata": {},
   "source": [
    "#### 3.2.1 Regex\n",
    "Meta-characters\n",
    "\n",
    "Among others: \n",
    "\n",
    "**[]**: Match set of characters\n",
    "\n",
    "**.**: Match any character except newline (\\n)\n",
    "\n",
    "**^**: Match characters not listed if within set or match beginning of line\n",
    "\n",
    "**$**: Match end of line\n",
    "\n",
    "**|**: Functions as an \"OR\" operator"
   ]
  },
  {
   "cell_type": "code",
   "execution_count": 6,
   "metadata": {},
   "outputs": [
    {
     "name": "stdout",
     "output_type": "stream",
     "text": [
      "['puppy', 'puppies', 'puppy']\n",
      "['puppy', 'puppies', 'playing', 'wanted', 'wanted', 'puppy']\n",
      "['puppies']\n"
     ]
    }
   ],
   "source": [
    "import re \n",
    "re.findall(\"[A-Z]\", \"Hello world!\")\n",
    "\n",
    "text = \"The puppy saw all the rest of the puppies playing and wanted to join them. I saw this and wanted a puppy of my own!\"\n",
    "pattern = 'pupp\\w+'\n",
    "print(re.findall(pattern, text))\n",
    "\n",
    "pattern = '\\w\\w\\w\\w\\w+' # longer than 4 letter\n",
    "print(re.findall(pattern, text))\n",
    "\n",
    "pattern = 'p\\w+s'\n",
    "print(re.findall(pattern, text))"
   ]
  },
  {
   "cell_type": "code",
   "execution_count": 37,
   "metadata": {},
   "outputs": [
    {
     "name": "stdout",
     "output_type": "stream",
     "text": [
      "['e not.']\n"
     ]
    }
   ],
   "source": [
    "text = \"My boss asked me to turn in my TPS reports. \\n I told him they were done, but they are not.\"\n",
    "re.findall(\".e.\", text)\n",
    "re.findall(\"...e\\.\", 'Call the police.')\n",
    "pattern = '......$'\n",
    "print(re.findall(pattern, text))"
   ]
  },
  {
   "cell_type": "markdown",
   "metadata": {},
   "source": [
    "###### Quantifiers\n",
    "\n",
    "*: Matches previous character 0 or more times\n",
    "\n",
    "**+**: Matches previous character 1 or more times\n",
    "\n",
    "**?**: Matches previous character 0 or 1 times (optional)\n",
    "\n",
    "**{}**: Matches previous characters however many times specified within:\n",
    "\n",
    "> {n} : Exactly n times\n",
    "\n",
    "> {n,} : At least n times\n",
    "\n",
    ">  {n,m} : Between n and m times"
   ]
  },
  {
   "cell_type": "code",
   "execution_count": 38,
   "metadata": {},
   "outputs": [
    {
     "name": "stdout",
     "output_type": "stream",
     "text": [
      "['cat', 'ct', 'cat', 'ct', 'ct']\n"
     ]
    }
   ],
   "source": [
    "text = \"The complicit cat interacted with the other cats exactly as we expected.\"\n",
    "\n",
    "pattern = \"ca*t\"  # can match the 'a' 0 or more times\n",
    "print(re.findall(pattern, text))"
   ]
  },
  {
   "cell_type": "code",
   "execution_count": 39,
   "metadata": {},
   "outputs": [
    {
     "name": "stdout",
     "output_type": "stream",
     "text": [
      "['color', 'colour']\n"
     ]
    }
   ],
   "source": [
    "text = \"Is the correct spelling color or colour?\"\n",
    "\n",
    "pattern = \"colou?r\"\n",
    "print(re.findall(pattern, text))\n",
    "## What's the difference with []"
   ]
  },
  {
   "cell_type": "code",
   "execution_count": 40,
   "metadata": {},
   "outputs": [
    {
     "name": "stdout",
     "output_type": "stream",
     "text": [
      "['aww', 'awww', 'awww', 'awww']\n"
     ]
    }
   ],
   "source": [
    "text = \"Let's see how we can match the following: aw, aww, awww, awwww, awwwww\"\n",
    "\n",
    "pattern = \"aw{2,3}\"  #What if I want from 2 on? And Between 2 or 3?\n",
    "print(re.findall(pattern, text))"
   ]
  },
  {
   "cell_type": "markdown",
   "metadata": {},
   "source": [
    "##### Character Classes\n",
    "\n",
    "**\\w**: Any alphanumeric character.\n",
    "\n",
    "**\\W**: Any non-alphanumeric character.\n",
    "\n",
    "**\\d**: Any numeric character.\n",
    "\n",
    "**\\D**: Any non-numeric character.\n",
    "\n",
    "**\\s**: Any whitespace characters.\n",
    "\n",
    "**\\S**: Any non-whitespace characters."
   ]
  },
  {
   "cell_type": "code",
   "execution_count": 41,
   "metadata": {},
   "outputs": [
    {
     "name": "stdout",
     "output_type": "stream",
     "text": [
      "['tell', 'truth', 'have', 'remember', 'anything']\n"
     ]
    }
   ],
   "source": [
    "## Extracting words from text\n",
    "text = \"If you tell the truth, you don't have to remember anything.\"\n",
    "pattern = '\\w{4,}'\n",
    "print(re.findall(pattern, text))"
   ]
  },
  {
   "cell_type": "markdown",
   "metadata": {},
   "source": [
    "#### 3.2.2 RSS Feed"
   ]
  },
  {
   "cell_type": "code",
   "execution_count": 54,
   "metadata": {},
   "outputs": [
    {
     "data": {
      "text/plain": [
       "dict_keys(['feed', 'entries', 'bozo', 'headers', 'href', 'status', 'encoding', 'bozo_exception', 'version', 'namespaces'])"
      ]
     },
     "execution_count": 54,
     "metadata": {},
     "output_type": "execute_result"
    }
   ],
   "source": [
    "import feedparser\n",
    "import pandas as pd\n",
    "reddit = feedparser.parse('https://techcrunch.com/feed/') \n",
    "#conda install -c anaconda feedparser\n",
    "reddit.keys()\n"
   ]
  },
  {
   "cell_type": "code",
   "execution_count": 56,
   "metadata": {},
   "outputs": [
    {
     "data": {
      "text/plain": [
       "{'html': {'dir': 'ltr', 'class': 'ltr eu techcrunch-page height100'},\n",
       " 'meta': {'name': 'viewport',\n",
       "  'content': 'width=device-width, initial-scale=1, maximum-scale=1, minimum-scale=1, user-scalable=no, viewport-fit=cover'},\n",
       " 'links': [{'rel': 'stylesheet',\n",
       "   'href': 'https://s.yimg.com/oa/build/css/site-ltr-c8c27757.css',\n",
       "   'type': 'text/html'},\n",
       "  {'rel': 'icon',\n",
       "   'type': 'image/png',\n",
       "   'href': 'https://s.yimg.com/oa/build/images/favicons/techcrunch.png'}],\n",
       " 'style': {'nonce': '/eMSzApwd1rbdW0UE1cJ6n4A1nssOS07'}}"
      ]
     },
     "execution_count": 56,
     "metadata": {},
     "output_type": "execute_result"
    }
   ],
   "source": [
    "reddit.feed"
   ]
  },
  {
   "cell_type": "markdown",
   "metadata": {},
   "source": [
    "#### 3.3 Web Scraping"
   ]
  },
  {
   "cell_type": "code",
   "execution_count": 2,
   "metadata": {},
   "outputs": [
    {
     "name": "stdout",
     "output_type": "stream",
     "text": [
      "<title>\n",
      "                EU clears Apple's purchase of Shazam - Reuters</title>\n"
     ]
    }
   ],
   "source": [
    "from bs4 import BeautifulSoup\n",
    "import requests\n",
    "url = 'https://www.reuters.com/article/us-shazam-m-a-apple-eu/eu-clears-apples-purchase-of-shazam-idUSKCN1LM1TZ'\n",
    "html = requests.get(url).content\n",
    "soup = BeautifulSoup(html, \"lxml\")  # Check documentation to specify 'features'\n",
    "soup.prettify()\n",
    "soup.get_text()\n",
    "print(soup.title)"
   ]
  },
  {
   "cell_type": "code",
   "execution_count": 75,
   "metadata": {},
   "outputs": [],
   "source": [
    "soup.find_all ('a')  # href gets the urls \n",
    "soup.find_all ('p')  # paragraph\n",
    "tag_name = [tag.name for tag in soup.find_all(re.compile('^b'))]   #body tag or b tag\n",
    "tag_name\n",
    "soup.find_all(['a','b'])\n",
    "# Finds all the tags in the document, name of the text strings\n",
    "tag_name_true = [tag.name for tag in soup.find_all(True)]\n",
    "tag_name \n",
    "tags = ['h1', 'h2', 'h3', 'h4', 'h5', 'h6', 'h7', 'p']\n",
    "text = [element.text for element in soup.find_all(tags)]\n",
    "#print('\\n'.join(text))"
   ]
  },
  {
   "cell_type": "code",
   "execution_count": 6,
   "metadata": {},
   "outputs": [
    {
     "data": {
      "text/html": [
       "<div>\n",
       "<style scoped>\n",
       "    .dataframe tbody tr th:only-of-type {\n",
       "        vertical-align: middle;\n",
       "    }\n",
       "\n",
       "    .dataframe tbody tr th {\n",
       "        vertical-align: top;\n",
       "    }\n",
       "\n",
       "    .dataframe thead th {\n",
       "        text-align: right;\n",
       "    }\n",
       "</style>\n",
       "<table border=\"1\" class=\"dataframe\">\n",
       "  <thead>\n",
       "    <tr style=\"text-align: right;\">\n",
       "      <th></th>\n",
       "      <th>0</th>\n",
       "    </tr>\n",
       "  </thead>\n",
       "  <tbody>\n",
       "    <tr>\n",
       "      <td>Monaco</td>\n",
       "      <td>89.4</td>\n",
       "    </tr>\n",
       "  </tbody>\n",
       "</table>\n",
       "</div>"
      ],
      "text/plain": [
       "           0\n",
       "Monaco  89.4"
      ]
     },
     "execution_count": 6,
     "metadata": {},
     "output_type": "execute_result"
    }
   ],
   "source": [
    "url = 'https://en.wikipedia.org/wiki/List_of_European_countries_by_life_expectancy'\n",
    "html = requests.get(url).content\n",
    "soup = BeautifulSoup(html, \"lxml\")\n",
    "soup\n",
    "#find in all the tables this atribute\n",
    "table = soup.find_all('table', attrs = {'class':'sortable wikitable'})[0]\n",
    "table\n",
    "#tr is the rows\n",
    "rows = table.find_all('tr')\n",
    "rows \n",
    "rows[2].text.replace('\\n', ' ').replace('\\xa0', '')#.split(' ')\n",
    "rows = [row.text.replace('\\n', ' ').replace('\\xa0', '') for row in rows[1:]]\n",
    "rows[2]\n",
    "countr= [' '.join(re.findall(r'[A-Za-z]+', row))for row in rows]\n",
    "countries = [re.findall(r'[a-zA-Z]' ,row) for row in rows]\n",
    "countries = [''.join(row) for row in countries]\n",
    "dict_countries = {countries[idx] : float(row [-5:]) for idx, row in enumerate(rows)}\n",
    "import pandas as pd\n",
    "\n",
    "df = pd.DataFrame.from_dict(dict_countries, orient='index')\n",
    "df.head(1)"
   ]
  },
  {
   "cell_type": "code",
   "execution_count": 11,
   "metadata": {},
   "outputs": [],
   "source": [
    "from bs4 import BeautifulSoup\n",
    "url = 'https://github.com/trending/python?since=daily'\n",
    "html = requests.get(url).content\n",
    "soup = BeautifulSoup(html, \"html\") \n",
    "text = [element.text.replace(' ','').replace('\\n','').split('/')[1] for element in soup.find_all(\"h1\",attrs={\"class\":\"h3 lh-condensed\"})]\n",
    "------------------------\n",
    "url = 'https://data.gov.uk/'\n",
    "html = requests.get(url).content\n",
    "soup = BeautifulSoup(html, \"lxml\")\n",
    "all_a = soup.find_all('a')\n",
    "ttext = [x.text for x in all_a]\n",
    "#ttext[11:-10]\n"
   ]
  },
  {
   "cell_type": "markdown",
   "metadata": {},
   "source": [
    "#### 3.4.1 Seaborn"
   ]
  },
  {
   "cell_type": "code",
   "execution_count": 17,
   "metadata": {},
   "outputs": [
    {
     "data": {
      "text/plain": [
       "<seaborn.axisgrid.FacetGrid at 0x1a259e9150>"
      ]
     },
     "execution_count": 17,
     "metadata": {},
     "output_type": "execute_result"
    },
    {
     "data": {
      "image/png": "[encoded data removed]",
      "text/plain": [
       "<Figure size 424.225x360 with 1 Axes>"
      ]
     },
     "metadata": {},
     "output_type": "display_data"
    }
   ],
   "source": [
    "import matplotlib.pyplot as plt\n",
    "import pandas as pd\n",
    "import seaborn as sns\n",
    "sns.set()\n",
    "vehicles = pd.read_csv('vehicles.csv') \n",
    "\n",
    "#sns.lineplot(data = vehicles['City MPG'][:67])\n",
    "#sns.lmplot(x = 'City MPG', y = 'Highway MPG', data=vehicles, fit_reg=True)\n",
    "#sns.scatterplot(x=\"CO2 Emission Grams/Mile\", y=\"Highway MPG\", hue=\"Drivetrain\", data=vehicles)\n",
    "#sns.relplot(x='CO2 Emission Grams/Mile', y='Highway MPG', hue=\"Fuel Type\", size=\"Fuel Type\", data=vehicles)\n",
    "#sns.catplot(x=\"Highway MPG\", y=\"Drivetrain\",hue=\"Fuel Type\", data=vehicles[vehicles['Fuel Type'] == 'CNG'])\n",
    "#ax = sns.boxplot(x=\"Fuel Type\", y=\"Highway MPG\", data=vehicles)\n",
    "#ax.set_xticklabels(ax.get_xticklabels(),rotation=90)\n",
    "#sns.violinplot(x=\"Combined MPG\",y=\"Drivetrain\", data = vehicles)\n",
    "#vehicles['Fuel Barrels/Year'].hist()\n",
    "#vehicles['Fuel Barrels/Year'].hist(bins=50)\n",
    "#sns.distplot(vehicles['Fuel Barrels/Year'])\n",
    "#vehicles['Drivetrain'].value_counts().plot.bar()\n",
    "#ax = sns.barplot(x=\"Fuel Type\", y=\"Highway MPG\", #due=\"Cylinders\", data = vehicles )\n",
    "#ax.set_xticklabels(ax.get_xticklabels(),rotation=90)\n",
    "#sns.set(style=\"ticks\")\n",
    "#sns.pairplot(vehicles[[\"Cylinders\", \"Highway MPG\", \"City MPG\", \"Combined MPG\", \"CO2 Emission Grams/Mile\"]], hue=\"Highway MPG\")\n",
    "#sns.pairplot(vehicles)#[[\"Cylinders\", \"Highway MPG\", \"City MPG\", \"Combined MPG\", \"CO2 Emission Grams/Mile\"]], hue=\"Highway MPG\")\n",
    "sns.catplot(x=\"Highway MPG\", y=\"Drivetrain\",hue = 'Fuel Type', data = vehicles[vehicles['Fuel Type'] == 'CNG'])#, hue=\"Fuel Type\", data=vehicles)"
   ]
  },
  {
   "cell_type": "markdown",
   "metadata": {},
   "source": [
    "#### 3.4.2 Matplotlib"
   ]
  },
  {
   "cell_type": "code",
   "execution_count": 21,
   "metadata": {},
   "outputs": [
    {
     "data": {
      "image/png": "[encoded data removed]",
      "text/plain": [
       "<Figure size 1440x720 with 4 Axes>"
      ]
     },
     "metadata": {},
     "output_type": "display_data"
    }
   ],
   "source": [
    "import matplotlib\n",
    "import matplotlib.pyplot as plt\n",
    "import pandas as pd\n",
    "import numpy as np\n",
    "# Notice the use of np randn\n",
    "np.random.seed(29)\n",
    "data = np.random.randn(2, 100)\n",
    "#print(data[:56])\n",
    "#Histogram rapresents the frequency, bars rapresents the value\n",
    "fig, axs = plt.subplots(2, 2, figsize=(20, 10))\n",
    "axs[0, 0].hist(data[0])\n",
    "axs[1, 0].scatter(data[0], data[1])\n",
    "axs[0, 1].bar(data[0], data[1])\n",
    "axs[1, 1].hist2d(data[0], data[1])\n",
    "plt.show()"
   ]
  },
  {
   "cell_type": "markdown",
   "metadata": {},
   "source": [
    " ##### Pie Chart"
   ]
  },
  {
   "cell_type": "code",
   "execution_count": 22,
   "metadata": {},
   "outputs": [
    {
     "data": {
      "image/png": "[encoded data removed]",
      "text/plain": [
       "<Figure size 432x288 with 1 Axes>"
      ]
     },
     "metadata": {},
     "output_type": "display_data"
    }
   ],
   "source": [
    "labels = ['Vegetarians', 'Non-Vegetarians', 'Vegans']\n",
    "sizes = [40, 45, 15]\n",
    "explode = (0, 0.1, 0.1)\n",
    "plt.pie(sizes, explode=explode, labels=labels, autopct='%1.1f%%', shadow=True, startangle=0)\n",
    "plt.axis('equal')\n",
    "plt.show()"
   ]
  },
  {
   "cell_type": "code",
   "execution_count": 23,
   "metadata": {},
   "outputs": [
    {
     "data": {
      "text/plain": [
       "<matplotlib.axes._subplots.AxesSubplot at 0x1a228f8310>"
      ]
     },
     "execution_count": 23,
     "metadata": {},
     "output_type": "execute_result"
    },
    {
     "data": {
      "image/png": "[encoded data removed]",
      "text/plain": [
       "<Figure size 432x288 with 1 Axes>"
      ]
     },
     "metadata": {},
     "output_type": "display_data"
    },
    {
     "data": {
      "image/png": "[encoded data removed]",
      "text/plain": [
       "<Figure size 432x288 with 1 Axes>"
      ]
     },
     "metadata": {},
     "output_type": "display_data"
    }
   ],
   "source": [
    "#vehicles.sort_values(by=[\"CO2 Emission Grams/Mile\", \"City MPG\", \"Highway MPG\"], inplace=True)\n",
    "vehicles.plot(x=\"CO2 Emission Grams/Mile\", y=[\"City MPG\", \"Highway MPG\"])# quitar head()\n",
    "vehicles.head().sort_values(by= \"CO2 Emission Grams/Mile\").plot(x=\"CO2 Emission Grams/Mile\", y=[\"City MPG\", \"Highway MPG\"])"
   ]
  },
  {
   "cell_type": "code",
   "execution_count": 25,
   "metadata": {},
   "outputs": [
    {
     "data": {
      "image/png": "[encoded data removed]",
      "text/plain": [
       "<Figure size 432x288 with 1 Axes>"
      ]
     },
     "metadata": {},
     "output_type": "display_data"
    },
    {
     "data": {
      "text/plain": [
       "<matplotlib.axes._subplots.AxesSubplot at 0x1a26eb3a50>"
      ]
     },
     "execution_count": 25,
     "metadata": {},
     "output_type": "execute_result"
    },
    {
     "data": {
      "image/png": "[encoded data removed]",
      "text/plain": [
       "<Figure size 432x288 with 1 Axes>"
      ]
     },
     "metadata": {},
     "output_type": "display_data"
    }
   ],
   "source": [
    "vehicles_mean = vehicles[[\"Highway MPG\", \"City MPG\", \"Drivetrain\"]].groupby([\"Drivetrain\"]).agg(\"mean\")\n",
    "vehicles_mean.plot.bar()\n",
    "#vehicles_mean.plot.barh()# h para ponerlo horizontal\n",
    "\n",
    "plt.scatter(x = \"Highway MPG\", y = \"City MPG\", s = \"Combined MPG\", c = 'CO2 Emission Grams/Mile', data = vehicles, alpha = 0.3)\n",
    "# 3 dimension es el tamanho del pnto (s) y la 4 dimension el color de los puntos(c) y una quinta dimension seria transparencia\n",
    "#plt.scatter(x = \"Highway MPG\", y = \"City MPG\",data = vehicles)\n",
    "plt.show()\n",
    "# necesitas matplot para imprimir\n",
    "\n",
    "vehicles.boxplot(column=\"Combined MPG\")"
   ]
  },
  {
   "cell_type": "code",
   "execution_count": null,
   "metadata": {},
   "outputs": [],
   "source": [
    "mla = fitbit['Minutes Lightly Active']\n",
    "stp = fitbit['Steps']\n",
    "mva = fitbit['Minutes Very Active']\n",
    "sed = fitbit['Minutes Sedentary']\n",
    "f, (x1, x2, x3) = plt.subplots(1, 3, figsize=(22,6))\n",
    "\n",
    "for i in range(len(stp)):\n",
    "    x1.scatter(stp[i], mla[i])\n",
    "    x2.scatter(stp[i], mva[i])\n",
    "    x3.scatter(stp[i], sed[i])"
   ]
  },
  {
   "cell_type": "markdown",
   "metadata": {},
   "source": [
    "#### 4.1 Descriptive Statistics With Pandas"
   ]
  },
  {
   "cell_type": "code",
   "execution_count": 30,
   "metadata": {},
   "outputs": [
    {
     "name": "stdout",
     "output_type": "stream",
     "text": [
      "k\n"
     ]
    }
   ],
   "source": [
    "vehicles[\"Highway MPG\"].max()\n",
    "vehicles['Highway MPG'].min()\n",
    "vehicles.std()\n",
    "vehicles.mean()\n",
    "vehicles.quantile(0.25)\n",
    "vehicles.sum()"
   ]
  },
  {
   "cell_type": "code",
   "execution_count": 42,
   "metadata": {},
   "outputs": [
    {
     "name": "stdout",
     "output_type": "stream",
     "text": [
      "k\n"
     ]
    }
   ],
   "source": [
    "vehicles.groupby(['Fuel Type', 'Cylinders'])['CO2 Emission Grams/Mile'].median()\n",
    "vehicles.groupby(['Fuel Type'])['Combined MPG'].agg(['mean', 'median', 'std'])\n",
    "\n",
    "from scipy import stats\n",
    "\n",
    "def agg_mode(x):\n",
    "    return(stats.mode(x)[0])\n",
    "\n",
    "vehicles.groupby(\"Transmission\")[\"Vehicle Class\"].agg(agg_mode)\n",
    "print('k')"
   ]
  },
  {
   "cell_type": "code",
   "execution_count": null,
   "metadata": {},
   "outputs": [],
   "source": [
    ".value_counts()\n",
    ".sort_values(ascending=False)\n",
    ".groupby(\"prime_genre\", as_index=False).agg({\"price\":\"mean\"}).sort_values(by=[\"price\"],ascending=False)\n",
    ".groupby(['State'])['Temperature'].mean()\n",
    "employees[employees['Salary']>55]\n",
    "\n",
    "## para groupby lab-subsetting-and-descriptive-stats (Spain)"
   ]
  },
  {
   "cell_type": "code",
   "execution_count": null,
   "metadata": {},
   "outputs": [],
   "source": [
    ".groupby(['State'])['Temperature'].mean()\n",
    "employees[employees['Salary']>55]\n",
    "## para groupby lab-subsetting-and-descriptive-stats"
   ]
  },
  {
   "cell_type": "code",
   "execution_count": null,
   "metadata": {},
   "outputs": [],
   "source": [
    "xx=pd.read_csv(\"../data/ages_population.csv\")\n",
    "f=xx.groupby(\"observation\").agg({\"observation\":\"count\"}).reset_index(drop=True)\n",
    "f.hist()\n",
    "\n",
    ".describe()[\"observation\"][[\"25%\", \"50%\", \"75%\", \"max\", \"mean\"]]"
   ]
  },
  {
   "cell_type": "code",
   "execution_count": null,
   "metadata": {},
   "outputs": [],
   "source": [
    "admision.columns = admision.columns.str.replace(' ', '')"
   ]
  },
  {
   "cell_type": "markdown",
   "metadata": {},
   "source": [
    "#### 4.3 Linear Regression\n",
    "\n",
    "Residuals\n",
    "\n",
    "Root Mean Square Error\n",
    "\n",
    "R square\n",
    "\n",
    "Multiple Regression"
   ]
  },
  {
   "cell_type": "code",
   "execution_count": 3,
   "metadata": {},
   "outputs": [
    {
     "data": {
      "text/plain": [
       "<matplotlib.axes._subplots.AxesSubplot at 0x1a19d20950>"
      ]
     },
     "execution_count": 3,
     "metadata": {},
     "output_type": "execute_result"
    },
    {
     "data": {
      "image/png": "[encoded data removed]",
      "text/plain": [
       "<Figure size 432x288 with 1 Axes>"
      ]
     },
     "metadata": {
      "needs_background": "light"
     },
     "output_type": "display_data"
    }
   ],
   "source": [
    "import seaborn as sns\n",
    "import pandas as pd\n",
    "\n",
    "student_data = pd.DataFrame({'X': [17,51,27,21,36,48,19,26,54,30], 'Y': [10,1,5,9,4,2,9,6,0,3]})\n",
    "ds=student_data.sort_values(by=['X'])\n",
    "student_data\n",
    "\n",
    "sns.regplot(x=\"X\", y=\"Y\", data=ds)"
   ]
  },
  {
   "cell_type": "code",
   "execution_count": 5,
   "metadata": {},
   "outputs": [
    {
     "name": "stdout",
     "output_type": "stream",
     "text": [
      "Intercept:  12.888803363135768\n",
      "Coef:  [-0.24282077]\n"
     ]
    }
   ],
   "source": [
    "from sklearn.linear_model import LinearRegression\n",
    "Y = ds['Y']## Choose a dataset, one column\n",
    "X = ds[['X']]## Choose a dataset, multiple columns\n",
    "lm = LinearRegression()\n",
    "model = lm.fit(X,Y)\n",
    "\n",
    "print(\"Intercept: \", lm.intercept_)\n",
    "print(\"Coef: \", lm.coef_) #Slope\n",
    "\n",
    "predictions  = lm.predict(X)   ## Y predicted"
   ]
  },
  {
   "cell_type": "code",
   "execution_count": 6,
   "metadata": {},
   "outputs": [
    {
     "name": "stderr",
     "output_type": "stream",
     "text": [
      "/opt/anaconda3/lib/python3.7/site-packages/scipy/stats/stats.py:1450: UserWarning: kurtosistest only valid for n>=20 ... continuing anyway, n=10\n",
      "  \"anyway, n=%i\" % int(n))\n"
     ]
    },
    {
     "data": {
      "text/html": [
       "<table class=\"simpletable\">\n",
       "<caption>OLS Regression Results</caption>\n",
       "<tr>\n",
       "  <th>Dep. Variable:</th>            <td>Y</td>        <th>  R-squared (uncentered):</th>      <td>   0.327</td>\n",
       "</tr>\n",
       "<tr>\n",
       "  <th>Model:</th>                   <td>OLS</td>       <th>  Adj. R-squared (uncentered):</th> <td>   0.252</td>\n",
       "</tr>\n",
       "<tr>\n",
       "  <th>Method:</th>             <td>Least Squares</td>  <th>  F-statistic:       </th>          <td>   4.375</td>\n",
       "</tr>\n",
       "<tr>\n",
       "  <th>Date:</th>             <td>Fri, 28 Feb 2020</td> <th>  Prob (F-statistic):</th>           <td>0.0660</td> \n",
       "</tr>\n",
       "<tr>\n",
       "  <th>Time:</th>                 <td>14:38:39</td>     <th>  Log-Likelihood:    </th>          <td> -30.028</td>\n",
       "</tr>\n",
       "<tr>\n",
       "  <th>No. Observations:</th>      <td>    10</td>      <th>  AIC:               </th>          <td>   62.06</td>\n",
       "</tr>\n",
       "<tr>\n",
       "  <th>Df Residuals:</th>          <td>     9</td>      <th>  BIC:               </th>          <td>   62.36</td>\n",
       "</tr>\n",
       "<tr>\n",
       "  <th>Df Model:</th>              <td>     1</td>      <th>                     </th>              <td> </td>   \n",
       "</tr>\n",
       "<tr>\n",
       "  <th>Covariance Type:</th>      <td>nonrobust</td>    <th>                     </th>              <td> </td>   \n",
       "</tr>\n",
       "</table>\n",
       "<table class=\"simpletable\">\n",
       "<tr>\n",
       "  <td></td>     <th>coef</th>     <th>std err</th>      <th>t</th>      <th>P>|t|</th>  <th>[0.025</th>    <th>0.975]</th>  \n",
       "</tr>\n",
       "<tr>\n",
       "  <th>X</th> <td>    0.0961</td> <td>    0.046</td> <td>    2.092</td> <td> 0.066</td> <td>   -0.008</td> <td>    0.200</td>\n",
       "</tr>\n",
       "</table>\n",
       "<table class=\"simpletable\">\n",
       "<tr>\n",
       "  <th>Omnibus:</th>       <td> 1.418</td> <th>  Durbin-Watson:     </th> <td>   0.141</td>\n",
       "</tr>\n",
       "<tr>\n",
       "  <th>Prob(Omnibus):</th> <td> 0.492</td> <th>  Jarque-Bera (JB):  </th> <td>   0.718</td>\n",
       "</tr>\n",
       "<tr>\n",
       "  <th>Skew:</th>          <td> 0.002</td> <th>  Prob(JB):          </th> <td>   0.698</td>\n",
       "</tr>\n",
       "<tr>\n",
       "  <th>Kurtosis:</th>      <td> 1.687</td> <th>  Cond. No.          </th> <td>    1.00</td>\n",
       "</tr>\n",
       "</table><br/><br/>Warnings:<br/>[1] Standard Errors assume that the covariance matrix of the errors is correctly specified."
      ],
      "text/plain": [
       "<class 'statsmodels.iolib.summary.Summary'>\n",
       "\"\"\"\n",
       "                                 OLS Regression Results                                \n",
       "=======================================================================================\n",
       "Dep. Variable:                      Y   R-squared (uncentered):                   0.327\n",
       "Model:                            OLS   Adj. R-squared (uncentered):              0.252\n",
       "Method:                 Least Squares   F-statistic:                              4.375\n",
       "Date:                Fri, 28 Feb 2020   Prob (F-statistic):                      0.0660\n",
       "Time:                        14:38:39   Log-Likelihood:                         -30.028\n",
       "No. Observations:                  10   AIC:                                      62.06\n",
       "Df Residuals:                       9   BIC:                                      62.36\n",
       "Df Model:                           1                                                  \n",
       "Covariance Type:            nonrobust                                                  \n",
       "==============================================================================\n",
       "                 coef    std err          t      P>|t|      [0.025      0.975]\n",
       "------------------------------------------------------------------------------\n",
       "X              0.0961      0.046      2.092      0.066      -0.008       0.200\n",
       "==============================================================================\n",
       "Omnibus:                        1.418   Durbin-Watson:                   0.141\n",
       "Prob(Omnibus):                  0.492   Jarque-Bera (JB):                0.718\n",
       "Skew:                           0.002   Prob(JB):                        0.698\n",
       "Kurtosis:                       1.687   Cond. No.                         1.00\n",
       "==============================================================================\n",
       "\n",
       "Warnings:\n",
       "[1] Standard Errors assume that the covariance matrix of the errors is correctly specified.\n",
       "\"\"\""
      ]
     },
     "execution_count": 6,
     "metadata": {},
     "output_type": "execute_result"
    }
   ],
   "source": [
    "import statsmodels.api as sm\n",
    "import statsmodels.api as sm\n",
    "vehicles = pd.read_csv('vehicles.csv')\n",
    "model = sm.OLS(Y,X)\n",
    "results = model.fit()\n",
    "predictions = results.predict(X)\n",
    "results.summary()"
   ]
  },
  {
   "cell_type": "code",
   "execution_count": 9,
   "metadata": {},
   "outputs": [
    {
     "data": {
      "text/plain": [
       "-0.22229960295054238"
      ]
     },
     "execution_count": 9,
     "metadata": {},
     "output_type": "execute_result"
    }
   ],
   "source": [
    "vehicles['CO2 Emission Grams/Mile'].corr(vehicles['Year']) "
   ]
  },
  {
   "cell_type": "code",
   "execution_count": null,
   "metadata": {},
   "outputs": [],
   "source": []
  },
  {
   "cell_type": "markdown",
   "metadata": {},
   "source": [
    "#### 4.4 Pivot table\n"
   ]
  },
  {
   "cell_type": "code",
   "execution_count": 48,
   "metadata": {},
   "outputs": [],
   "source": [
    "vehicles = pd.read_csv('vehicles.csv')\n",
    "## Multidimensional summarization - what's the default aggregation? \n",
    "#vehicles.pivot_table(index=[\"Vehicle Class\"]).head()\n",
    "#vehicles.pivot_table(index=[\"Vehicle Class\"], columns=[\"Cylinders\"],aggfunc=lambda x:[round(np.mean(x),2]).head()\n",
    "#vehicles.pivot_table(values=['Highway MPG', 'City MPG'], index=[\"Vehicle Class\"], \\columns=['Cylinders'], aggfunc= lambda x: [round(np.mean(x),2), round(np.std(x),2)], fill_value=0).head()\n",
    "#vehicles.pivot_table(values = ['Highway MPG','Year'], index=['Vehicle Class'], columns = ['Cylinders'], aggfunc = {'Year' : lambda x: [round(np.mean(x),2), round(np.std(x),2)], 'Highway MPG' : np.std}).head()                \n",
    ".pivot_table(index=[\"Department\"], values=[\"Salary\"], aggfunc=np.mean)\n",
    ".pivot_table(index=[\"Department\"], values=[\"Salary\",\"Years\"], aggfunc={'Salary': np.sum,'Department':np.sum})"
   ]
  },
  {
   "cell_type": "markdown",
   "metadata": {},
   "source": [
    "#### 4.5  Probability\n",
    "lab-probability-distributions: continuous and discrete\n",
    "\n",
    "\n",
    "#### Confidence intervals\n",
    "\n"
   ]
  },
  {
   "cell_type": "code",
   "execution_count": 3,
   "metadata": {},
   "outputs": [
    {
     "data": {
      "text/plain": [
       "(168.34046040448825, 178.59287292884508)"
      ]
     },
     "execution_count": 3,
     "metadata": {},
     "output_type": "execute_result"
    }
   ],
   "source": [
    "import numpy as np\n",
    "from scipy.stats import uniform\n",
    "from scipy.stats import norm\n",
    "from scipy.stats import expon\n",
    "\n",
    "heights = [167, 167, 168, 168, 168, 169, 171, 172, 173, 175, 175, 175, 177, 182, 195]\n",
    "x = np.mean(heights)\n",
    "des = 4\n",
    "\n",
    "norm.interval(0.8, loc=x, scale=des)"
   ]
  },
  {
   "cell_type": "code",
   "execution_count": 6,
   "metadata": {},
   "outputs": [
    {
     "name": "stdout",
     "output_type": "stream",
     "text": [
      "(173.41200519497923, 173.5213281383541) (173.39650942728835, 173.536823906045)\n"
     ]
    }
   ],
   "source": [
    "import math \n",
    "p = 27/105\n",
    "\n",
    "std = math.sqrt((p*(1-p))/105)\n",
    "\n",
    "z1 = norm.interval(0.8, loc=x, scale=std)\n",
    "z2 = norm.interval(0.9, loc=x, scale=std)\n",
    "\n",
    "print(z1,z2)"
   ]
  },
  {
   "cell_type": "markdown",
   "metadata": {},
   "source": [
    "#### $$ Error = z_{\\frac{\\alpha}{2}}\\sqrt{\\frac{p\\times q}{n}} $$\n",
    " Determine the sample size required to not exceed an error of 1% with a confidence of 80%."
   ]
  },
  {
   "cell_type": "code",
   "execution_count": 7,
   "metadata": {},
   "outputs": [
    {
     "data": {
      "text/plain": [
       "3130.0"
      ]
     },
     "execution_count": 7,
     "metadata": {},
     "output_type": "execute_result"
    }
   ],
   "source": [
    "# calcularing z-score \n",
    "z = round(norm.interval(0.8)[1],2)\n",
    "# error formula: e = z*(p(1-p)/n)**0.5 (e=0.5)\n",
    "#to find n:\n",
    "e = 0.01\n",
    "n = ((z/e)**2)*(p*(1-p))\n",
    "round(n)"
   ]
  },
  {
   "cell_type": "markdown",
   "metadata": {},
   "source": [
    "#### 5.1 Scipy / Anova"
   ]
  },
  {
   "cell_type": "code",
   "execution_count": 57,
   "metadata": {},
   "outputs": [
    {
     "data": {
      "text/html": [
       "<div>\n",
       "<style scoped>\n",
       "    .dataframe tbody tr th:only-of-type {\n",
       "        vertical-align: middle;\n",
       "    }\n",
       "\n",
       "    .dataframe tbody tr th {\n",
       "        vertical-align: top;\n",
       "    }\n",
       "\n",
       "    .dataframe thead th {\n",
       "        text-align: right;\n",
       "    }\n",
       "</style>\n",
       "<table border=\"1\" class=\"dataframe\">\n",
       "  <thead>\n",
       "    <tr style=\"text-align: right;\">\n",
       "      <th></th>\n",
       "      <th>Rate</th>\n",
       "      <th>City</th>\n",
       "    </tr>\n",
       "  </thead>\n",
       "  <tbody>\n",
       "    <tr>\n",
       "      <td>0</td>\n",
       "      <td>13.75</td>\n",
       "      <td>1</td>\n",
       "    </tr>\n",
       "    <tr>\n",
       "      <td>1</td>\n",
       "      <td>13.75</td>\n",
       "      <td>1</td>\n",
       "    </tr>\n",
       "    <tr>\n",
       "      <td>2</td>\n",
       "      <td>13.50</td>\n",
       "      <td>1</td>\n",
       "    </tr>\n",
       "    <tr>\n",
       "      <td>3</td>\n",
       "      <td>13.50</td>\n",
       "      <td>1</td>\n",
       "    </tr>\n",
       "    <tr>\n",
       "      <td>4</td>\n",
       "      <td>13.00</td>\n",
       "      <td>1</td>\n",
       "    </tr>\n",
       "  </tbody>\n",
       "</table>\n",
       "</div>"
      ],
      "text/plain": [
       "    Rate  City\n",
       "0  13.75     1\n",
       "1  13.75     1\n",
       "2  13.50     1\n",
       "3  13.50     1\n",
       "4  13.00     1"
      ]
     },
     "execution_count": 57,
     "metadata": {},
     "output_type": "execute_result"
    }
   ],
   "source": [
    "import scipy\n",
    "import numpy as np\n",
    "import matplotlib.pyplot as plt\n",
    "import pandas as pd\n",
    "from scipy.stats import f_oneway\n",
    "import matplotlib\n",
    "import matplotlib.pyplot as plt\n",
    "\n",
    "ds = pd.read_csv('rate_by_city.csv')\n",
    "ds.head()"
   ]
  },
  {
   "cell_type": "code",
   "execution_count": 58,
   "metadata": {},
   "outputs": [
    {
     "data": {
      "text/html": [
       "<div>\n",
       "<style scoped>\n",
       "    .dataframe tbody tr th:only-of-type {\n",
       "        vertical-align: middle;\n",
       "    }\n",
       "\n",
       "    .dataframe tbody tr th {\n",
       "        vertical-align: top;\n",
       "    }\n",
       "\n",
       "    .dataframe thead th {\n",
       "        text-align: right;\n",
       "    }\n",
       "</style>\n",
       "<table border=\"1\" class=\"dataframe\">\n",
       "  <thead>\n",
       "    <tr style=\"text-align: right;\">\n",
       "      <th></th>\n",
       "      <th>sum_sq</th>\n",
       "      <th>df</th>\n",
       "      <th>F</th>\n",
       "      <th>PR(&gt;F)</th>\n",
       "    </tr>\n",
       "  </thead>\n",
       "  <tbody>\n",
       "    <tr>\n",
       "      <td>C(City)</td>\n",
       "      <td>10.945667</td>\n",
       "      <td>5.0</td>\n",
       "      <td>4.829385</td>\n",
       "      <td>0.001175</td>\n",
       "    </tr>\n",
       "    <tr>\n",
       "      <td>Residual</td>\n",
       "      <td>21.758133</td>\n",
       "      <td>48.0</td>\n",
       "      <td>NaN</td>\n",
       "      <td>NaN</td>\n",
       "    </tr>\n",
       "  </tbody>\n",
       "</table>\n",
       "</div>"
      ],
      "text/plain": [
       "             sum_sq    df         F    PR(>F)\n",
       "C(City)   10.945667   5.0  4.829385  0.001175\n",
       "Residual  21.758133  48.0       NaN       NaN"
      ]
     },
     "execution_count": 58,
     "metadata": {},
     "output_type": "execute_result"
    }
   ],
   "source": [
    "import statsmodels.api as sm\n",
    "from statsmodels.formula.api import ols\n",
    "\n",
    "model = ols('Rate ~ C(City)', data=ds).fit()\n",
    "anova_table = sm.stats.anova_lm(model, typ=2)\n",
    "anova_table\n",
    "#PR = pvalue"
   ]
  },
  {
   "cell_type": "code",
   "execution_count": 2,
   "metadata": {},
   "outputs": [
    {
     "name": "stdout",
     "output_type": "stream",
     "text": [
      "                            OLS Regression Results                            \n",
      "==============================================================================\n",
      "Dep. Variable:                    mpg   R-squared:                       0.177\n",
      "Model:                            OLS   Adj. R-squared:                  0.175\n",
      "Method:                 Least Squares   F-statistic:                     84.96\n",
      "Date:                Fri, 21 Feb 2020   Prob (F-statistic):           1.82e-18\n",
      "Time:                        15:30:57   Log-Likelihood:                -1343.9\n",
      "No. Observations:                 398   AIC:                             2692.\n",
      "Df Residuals:                     396   BIC:                             2700.\n",
      "Df Model:                           1                                         \n",
      "Covariance Type:            nonrobust                                         \n",
      "================================================================================\n",
      "                   coef    std err          t      P>|t|      [0.025      0.975]\n",
      "--------------------------------------------------------------------------------\n",
      "const            4.9698      2.043      2.432      0.015       0.953       8.987\n",
      "acceleration     1.1912      0.129      9.217      0.000       0.937       1.445\n",
      "==============================================================================\n",
      "Omnibus:                       17.459   Durbin-Watson:                   0.677\n",
      "Prob(Omnibus):                  0.000   Jarque-Bera (JB):               18.214\n",
      "Skew:                           0.497   Prob(JB):                     0.000111\n",
      "Kurtosis:                       2.670   Cond. No.                         91.1\n",
      "==============================================================================\n",
      "\n",
      "Warnings:\n",
      "[1] Standard Errors assume that the covariance matrix of the errors is correctly specified.\n"
     ]
    },
    {
     "name": "stderr",
     "output_type": "stream",
     "text": [
      "/opt/anaconda3/lib/python3.7/site-packages/numpy/core/fromnumeric.py:2495: FutureWarning: Method .ptp is deprecated and will be removed in a future version. Use numpy.ptp instead.\n",
      "  return ptp(axis=axis, out=out, **kwargs)\n"
     ]
    }
   ],
   "source": [
    "import pandas as pd\n",
    "from scipy.stats import linregress\n",
    "ds = pd.read_csv('auto-mpg.csv')\n",
    "ds.head()\n",
    "## Have a look at the dataset\n",
    "slope,intercept, r_value, p_value, std_err=linregress(ds.acceleration, ds.mpg)\n",
    "#pvale - si es menor H0 suponemos que la hipótesis nula es cierta.\n",
    "#rvalue - how relatd they are\n",
    "slope, intercept, r_value, p_value, std_err = linregress(ds.acceleration, ds.mpg)\n",
    "slope, intercept, r_value, p_value, std_err\n",
    "\n",
    "import statsmodels.api as sm\n",
    "X = sm.add_constant(ds.acceleration) # We must add the intercept using the add_constant function\n",
    "Y = ds.mpg\n",
    "\n",
    "model = sm.OLS(Y, X).fit()\n",
    "predictions = model.predict(X) \n",
    "\n",
    "print_model = model.summary()\n",
    "print(print_model)\n",
    "###########\n",
    "#Ordinary least squares\n",
    "#Mínimos cuadrados ordinarios"
   ]
  },
  {
   "cell_type": "markdown",
   "metadata": {},
   "source": [
    "#### 5.1 Scipy"
   ]
  },
  {
   "cell_type": "markdown",
   "metadata": {},
   "source": [
    "#### 5.2 GoodnessOfFit  / Two Sample Hypothesis Tests\n",
    "\n",
    " Chi Square\n",
    " \n",
    "\n",
    " Compare two distributions"
   ]
  },
  {
   "cell_type": "markdown",
   "metadata": {},
   "source": [
    "#### 5.3 Storelling"
   ]
  },
  {
   "cell_type": "markdown",
   "metadata": {},
   "source": [
    "#### 6 Machine learning\n",
    "\n",
    "supervised_classification\n",
    "\n",
    "supervised_regression  MAE MSE R^2\n",
    "\n",
    "time series - ARIMA\n",
    "\n",
    "Unsupervised\n",
    "\n",
    "Deep learning\n",
    "\n",
    "NLP\n",
    "\n",
    "\n",
    "overfitting \n",
    "\n",
    "hipperparameters"
   ]
  },
  {
   "cell_type": "markdown",
   "metadata": {},
   "source": [
    "##### Functions:"
   ]
  },
  {
   "cell_type": "code",
   "execution_count": null,
   "metadata": {},
   "outputs": [],
   "source": [
    "# We first define our iterator:\n",
    "iterator = iter([1,2,3])\n",
    "# We can now iterate through the object using the next function\n",
    "print(next(iterator))\n",
    "print(next(iterator))"
   ]
  }
 ],
 "metadata": {
  "kernelspec": {
   "display_name": "Python 3",
   "language": "python",
   "name": "python3"
  },
  "language_info": {
   "codemirror_mode": {
    "name": "ipython",
    "version": 3
   },
   "file_extension": ".py",
   "mimetype": "text/x-python",
   "name": "python",
   "nbconvert_exporter": "python",
   "pygments_lexer": "ipython3",
   "version": "3.7.4"
  }
 },
 "nbformat": 4,
 "nbformat_minor": 2
}
